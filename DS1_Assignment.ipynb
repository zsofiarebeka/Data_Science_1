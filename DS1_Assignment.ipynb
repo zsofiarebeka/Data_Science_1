{
 "cells": [
  {
   "cell_type": "markdown",
   "id": "a294ca1f-c0f5-44c8-b6c5-db4ee4b59090",
   "metadata": {},
   "source": [
    "# <center> Data Science 1 - Final Assignment <center>\n",
    "<center>Created by Zsófia Rebeka Katona<center>\n",
    "\n",
    "    ---"
   ]
  },
  {
   "cell_type": "markdown",
   "id": "0098216e-d606-43a8-bbba-552ab40a3245",
   "metadata": {},
   "source": [
    "The goal of this assignment is to explore the concepts of ridge regression and principal component analysis (PCA) in the context of predictive modeling. We'll examine two exercises:\n",
    "\n",
    "1. Ridge Regression Analysis:\n",
    "\n",
    "- We begin by considering a simple predictive model where the response variable is predicted using only a constant term. We then introduce ridge regression, which is a regularized version of linear regression, and compare its performance with ordinary least squares (OLS) regression.\n",
    "- We generate a sample dataset with a known true parameter and noise distribution. Using this dataset, we compute ridge regression estimates for various values of the regularization parameter lambda (λ) and analyze the bias, variance, and mean squared error (MSE) of these estimates.\n",
    "- Finally, we plot the bias, variance, and MSE as functions of lambda to interpret the results and determine whether ridge regression provides better predictions than OLS regression."
   ]
  },
  {
   "cell_type": "code",
   "execution_count": 1,
   "id": "898052d9-729c-4180-be4a-946c56f10173",
   "metadata": {
    "tags": []
   },
   "outputs": [],
   "source": [
    "# Importing the required libraries\n",
    "import numpy as np\n",
    "import pandas as pd\n",
    "\n",
    "from sklearn.linear_model import LinearRegression\n",
    "from sklearn.preprocessing import PolynomialFeatures"
   ]
  },
  {
   "cell_type": "markdown",
   "id": "0978c1df-4211-455b-adb9-0879ea8aeb3c",
   "metadata": {},
   "source": [
    "## 1. Ridge Regression Analysis"
   ]
  },
  {
   "cell_type": "code",
   "execution_count": null,
   "id": "e4551be9-3098-4d53-9189-06a5d4dbc178",
   "metadata": {},
   "outputs": [],
   "source": [
    "# Setting the random seed\n",
    "np.random.seed(20240315)\n",
    "\n",
    "# Settings for the sample size and repetition\n",
    "n = 100\n",
    "epsilon = \n",
    "sigma = 1.0\n",
    "y = beta_zero + epsilon"
   ]
  },
  {
   "cell_type": "code",
   "execution_count": null,
   "id": "2bd61124-0741-4886-8ccd-5b1275fa20a5",
   "metadata": {},
   "outputs": [],
   "source": [
    "R = 1000 # Repeating the part b) 1000 times - R mentuoned in 1. c)"
   ]
  },
  {
   "cell_type": "markdown",
   "id": "796cdb95-4c8c-44ef-8f29-d008f8df5462",
   "metadata": {
    "tags": []
   },
   "source": [
    "## 2. Linear regression\n",
    " Suppose we estimate the regression coefficients in a linear regression\n",
    "model by minimizing the function provided for a particular value of s. For parts (a) through (e), indicate which\n",
    "of i. through v. is correct. Justify your answer.\n",
    "\n",
    "- (a) As we increase s from 0, the training RSS will:\n",
    "    - i. Increase initially, and then eventually start decreasing in an inverted U shape.\n",
    "    - ii. Decrease initially, and then eventually start increasing in a U shape.\n",
    "    - iii. Steadily increase.\n",
    "    - iv. Steadily decrease.\n",
    "    - v. Remain constant.\n",
    "- (b) Repeat (a) for test RSS.\n",
    "- (c) Repeat (a) for variance.\n",
    "- (d) Repeat (a) for (squared) bias.\n",
    "- (e) Repeat (a) for the irreducible error.\n",
    "\n",
    "---\n",
    "\n",
    "Objective:\n",
    "\n",
    "The exercise aims to understand how the training residual sum of squares (RSS), test RSS, variance, squared bias, and irreducible error change as we vary the regularization parameter s in a linear regression model.\n",
    "Linear Regression with Regularization:\n",
    "\n",
    "In a linear regression model, we aim to minimize the difference between observed and predicted values of the response variable (RSS). However, in this exercise, we impose a constraint on the magnitude of the regression coefficients (β) such that the sum of absolute values of coefficients does not exceed a certain threshold s.\n",
    "Effect of Increasing s:\n",
    "\n",
    "As s increases from 0, the constraint becomes less restrictive, allowing larger coefficient values.\n",
    "\n",
    "Let's analyze the expected behavior for each of the metrics:\n",
    "\n",
    "(a) Training RSS: Initially, with a small s, the model is heavily regularized, leading to underfitting and higher training RSS. As s increases, the model becomes less regularized, fitting the training data better, and thus training RSS decreases. However, if s becomes too large, overfitting may occur, causing the training RSS to increase again.\n",
    "\n",
    "(b) Test RSS: The test RSS typically follows a similar pattern to the training RSS. Initially, with a small s, the model generalizes poorly to unseen data, leading to high test RSS. As s increases, the model becomes better at generalizing, resulting in lower test RSS. However, if s becomes too large, overfitting may occur, causing test RSS to increase again.\n",
    "\n",
    "(c) Variance: Variance tends to decrease as s increases because the model becomes less complex and more stable.\n",
    "\n",
    "(d) Squared Bias: Bias tends to decrease initially as s increases because the model becomes more flexible and can capture more complex relationships in the data. However, if s becomes too large, bias may increase due to overfitting.\n",
    "\n",
    "(e) Irreducible Error: Irreducible error remains constant regardless of the value of s because it represents the inherent noise in the data that cannot be reduced by any model.\n",
    "\n",
    "Conclusion:\n",
    "\n",
    "In summary, as we increase s from 0:\n",
    "Training RSS and test RSS are expected to initially increase and then decrease or remain relatively stable, depending on the balance between model flexibility and overfitting.\n",
    "Variance is expected to decrease.\n",
    "Bias is expected to decrease initially and then may increase if overfitting occurs.\n",
    "Irreducible error remains constant.\n",
    "This exercise helps in understanding the trade-offs involved in choosing the appropriate level of regularization in a linear regression model and its impact on various aspects of model performance."
   ]
  },
  {
   "cell_type": "markdown",
   "id": "0776fd57-3df3-43fa-8ed0-5ca9dbddd4a1",
   "metadata": {},
   "source": [
    "## 3. Principal Component Analysis (PCA):\n",
    "\n",
    "- We then move on to the second exercise, which involves a dense regression model with 50 correlated predictors.\n",
    "Using PCA, we compute the principal components of the predictors and their corresponding scores.\n",
    "- We estimate OLS regression models using both the original predictors and the principal components on a training sample. Then, we use these models to predict the outcomes in a test sample and compute the mean squared prediction error (MSPE) for comparison.\n",
    "- Finally, we discuss and explain the patterns observed in the MSPE for different sample sizes in comparison with a reference table provided in lecture slides."
   ]
  },
  {
   "cell_type": "code",
   "execution_count": null,
   "id": "267a50ed-c57a-4ce2-afdd-228041203312",
   "metadata": {},
   "outputs": [],
   "source": []
  }
 ],
 "metadata": {
  "kernelspec": {
   "display_name": "Python 3 (ipykernel)",
   "language": "python",
   "name": "python3"
  },
  "language_info": {
   "codemirror_mode": {
    "name": "ipython",
    "version": 3
   },
   "file_extension": ".py",
   "mimetype": "text/x-python",
   "name": "python",
   "nbconvert_exporter": "python",
   "pygments_lexer": "ipython3",
   "version": "3.11.4"
  }
 },
 "nbformat": 4,
 "nbformat_minor": 5
}
